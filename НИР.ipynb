{
  "nbformat": 4,
  "nbformat_minor": 0,
  "metadata": {
    "colab": {
      "name": "НИР.ipynb",
      "provenance": [],
      "authorship_tag": "ABX9TyNKrnA/Mu+yez5IDNNq/Ynf",
      "include_colab_link": true
    },
    "kernelspec": {
      "name": "python3",
      "display_name": "Python 3"
    },
    "language_info": {
      "name": "python"
    }
  },
  "cells": [
    {
      "cell_type": "markdown",
      "metadata": {
        "id": "view-in-github",
        "colab_type": "text"
      },
      "source": [
        "<a href=\"https://colab.research.google.com/github/SixDevelop/Research-work/blob/main/%D0%9D%D0%98%D0%A0.ipynb\" target=\"_parent\"><img src=\"https://colab.research.google.com/assets/colab-badge.svg\" alt=\"Open In Colab\"/></a>"
      ]
    },
    {
      "cell_type": "markdown",
      "source": [
        "# Импорт датасета и его анализ\n",
        "\n",
        "\n",
        "\n",
        "---\n",
        "\n"
      ],
      "metadata": {
        "id": "s-95GlkqOgOe"
      }
    },
    {
      "cell_type": "markdown",
      "source": [
        "**Импорты**"
      ],
      "metadata": {
        "id": "ny2k9rDdRdsQ"
      }
    },
    {
      "cell_type": "code",
      "execution_count": 14,
      "metadata": {
        "id": "WTlLiuOAOciI"
      },
      "outputs": [],
      "source": [
        "import matplotlib.pyplot as plt\n",
        "import numpy as np\n",
        "import pandas as pd\n",
        "import time\n",
        "import csv\n",
        "from matplotlib.figure import Figure \n",
        "from matplotlib.axes import Axes\n",
        "from numpy import ndarray\n",
        "from collections import Counter\n",
        "import matplotlib.gridspec as gridspec"
      ]
    },
    {
      "cell_type": "markdown",
      "source": [
        "**Получение csv таблицы**"
      ],
      "metadata": {
        "id": "X_tQQgBAVI7g"
      }
    },
    {
      "cell_type": "code",
      "source": [
        "full_data = pd.read_table(\"/validated.tsv\", sep='\\t')\n",
        "full_data.to_csv('validated.csv', index=False)\n",
        "full_data.head()"
      ],
      "metadata": {
        "colab": {
          "base_uri": "https://localhost:8080/",
          "height": 289
        },
        "id": "3kf5imL3SX_R",
        "outputId": "41a701d6-d84b-4a6a-8a26-2e39ca5b17d0"
      },
      "execution_count": 61,
      "outputs": [
        {
          "output_type": "execute_result",
          "data": {
            "text/html": [
              "<div>\n",
              "<style scoped>\n",
              "    .dataframe tbody tr th:only-of-type {\n",
              "        vertical-align: middle;\n",
              "    }\n",
              "\n",
              "    .dataframe tbody tr th {\n",
              "        vertical-align: top;\n",
              "    }\n",
              "\n",
              "    .dataframe thead th {\n",
              "        text-align: right;\n",
              "    }\n",
              "</style>\n",
              "<table border=\"1\" class=\"dataframe\">\n",
              "  <thead>\n",
              "    <tr style=\"text-align: right;\">\n",
              "      <th></th>\n",
              "      <th>client_id</th>\n",
              "      <th>path</th>\n",
              "      <th>sentence</th>\n",
              "      <th>up_votes</th>\n",
              "      <th>down_votes</th>\n",
              "      <th>age</th>\n",
              "      <th>gender</th>\n",
              "      <th>accent</th>\n",
              "      <th>locale</th>\n",
              "      <th>segment</th>\n",
              "    </tr>\n",
              "  </thead>\n",
              "  <tbody>\n",
              "    <tr>\n",
              "      <th>0</th>\n",
              "      <td>002fbee74be6b73a21a0a493965c0fcd5cadcbb74da966...</td>\n",
              "      <td>common_voice_ru_25792615.mp3</td>\n",
              "      <td>Внешние отношения Алексея Александровича с жен...</td>\n",
              "      <td>2</td>\n",
              "      <td>0</td>\n",
              "      <td>NaN</td>\n",
              "      <td>NaN</td>\n",
              "      <td>NaN</td>\n",
              "      <td>ru</td>\n",
              "      <td>NaN</td>\n",
              "    </tr>\n",
              "    <tr>\n",
              "      <th>1</th>\n",
              "      <td>0076d72b93a07cfe19b8ab8f8b8f25459fde5fdabb4ebc...</td>\n",
              "      <td>common_voice_ru_26778765.mp3</td>\n",
              "      <td>Повреждать систему, в том числе устанавливать ...</td>\n",
              "      <td>2</td>\n",
              "      <td>0</td>\n",
              "      <td>fourties</td>\n",
              "      <td>female</td>\n",
              "      <td>NaN</td>\n",
              "      <td>ru</td>\n",
              "      <td>NaN</td>\n",
              "    </tr>\n",
              "    <tr>\n",
              "      <th>2</th>\n",
              "      <td>01648c1613193e9f272373de6867c358d542ae833de4da...</td>\n",
              "      <td>common_voice_ru_26587318.mp3</td>\n",
              "      <td>К сожалению, эти предложения не нашли отражени...</td>\n",
              "      <td>2</td>\n",
              "      <td>0</td>\n",
              "      <td>NaN</td>\n",
              "      <td>NaN</td>\n",
              "      <td>NaN</td>\n",
              "      <td>ru</td>\n",
              "      <td>NaN</td>\n",
              "    </tr>\n",
              "    <tr>\n",
              "      <th>3</th>\n",
              "      <td>081340f4cbaab50d8b9606a52488eb0614edd77eb782a4...</td>\n",
              "      <td>common_voice_ru_19468869.mp3</td>\n",
              "      <td>Если не будет возражений, я буду считать, что ...</td>\n",
              "      <td>2</td>\n",
              "      <td>0</td>\n",
              "      <td>NaN</td>\n",
              "      <td>NaN</td>\n",
              "      <td>NaN</td>\n",
              "      <td>ru</td>\n",
              "      <td>NaN</td>\n",
              "    </tr>\n",
              "    <tr>\n",
              "      <th>4</th>\n",
              "      <td>0ca241e701b2431a3b286c4c9f5f42946eae11ec0cd540...</td>\n",
              "      <td>common_voice_ru_25189464.mp3</td>\n",
              "      <td>Мы особенно рады отметить, что число скрывающи...</td>\n",
              "      <td>2</td>\n",
              "      <td>0</td>\n",
              "      <td>NaN</td>\n",
              "      <td>NaN</td>\n",
              "      <td>NaN</td>\n",
              "      <td>ru</td>\n",
              "      <td>NaN</td>\n",
              "    </tr>\n",
              "  </tbody>\n",
              "</table>\n",
              "</div>"
            ],
            "text/plain": [
              "                                           client_id  ... segment\n",
              "0  002fbee74be6b73a21a0a493965c0fcd5cadcbb74da966...  ...     NaN\n",
              "1  0076d72b93a07cfe19b8ab8f8b8f25459fde5fdabb4ebc...  ...     NaN\n",
              "2  01648c1613193e9f272373de6867c358d542ae833de4da...  ...     NaN\n",
              "3  081340f4cbaab50d8b9606a52488eb0614edd77eb782a4...  ...     NaN\n",
              "4  0ca241e701b2431a3b286c4c9f5f42946eae11ec0cd540...  ...     NaN\n",
              "\n",
              "[5 rows x 10 columns]"
            ]
          },
          "metadata": {},
          "execution_count": 61
        }
      ]
    },
    {
      "cell_type": "markdown",
      "source": [
        "**Вывод графика полных данных по полу без очистки таблицы от незаполненных полей**"
      ],
      "metadata": {
        "id": "T_xCVxfdVPZV"
      }
    },
    {
      "cell_type": "code",
      "source": [
        "list(full_data.columns)\n",
        "items = Counter(full_data.gender)\n",
        "srs = pd.DataFrame.from_dict(items, orient='index')\n",
        "srs = srs[0].sort_values(ascending=True)\n",
        "\n",
        "srs.plot(kind='bar')\n",
        "plt.xlabel('Gender')\n",
        "plt.ylabel('Amount')\n",
        "plt.title('Amount of people in different genders')\n",
        "plt.show()\n"
      ],
      "metadata": {
        "colab": {
          "base_uri": "https://localhost:8080/",
          "height": 320
        },
        "id": "PNtEhz3RVcD6",
        "outputId": "ad03a236-0439-42c3-b594-e8c27d894bfc"
      },
      "execution_count": 62,
      "outputs": [
        {
          "output_type": "display_data",
          "data": {
            "image/png": "[encoded data removed]",
            "text/plain": [
              "<Figure size 432x288 with 1 Axes>"
            ]
          },
          "metadata": {
            "needs_background": "light"
          }
        }
      ]
    },
    {
      "cell_type": "markdown",
      "source": [
        "**Исключение ненужных полей из графика**"
      ],
      "metadata": {
        "id": "4Yytl48-Z9Fj"
      }
    },
    {
      "cell_type": "code",
      "source": [
        "\n",
        "full_data = full_data[full_data.gender.notnull()]\n",
        "full_data = full_data[full_data.gender != 'other']\n",
        "full_data.head()\n",
        "list(full_data.columns)\n",
        "items = Counter(full_data.gender)\n",
        "srs = pd.DataFrame.from_dict(items, orient='index')\n",
        "srs = srs[0].sort_values(ascending=True)\n",
        "\n",
        "srs.plot(kind='bar')\n",
        "plt.xlabel('Gender')\n",
        "plt.ylabel('Amount')\n",
        "plt.title('Amount of people in different genders')\n",
        "plt.show()"
      ],
      "metadata": {
        "colab": {
          "base_uri": "https://localhost:8080/",
          "height": 320
        },
        "id": "2ZsfjWuraJpq",
        "outputId": "f3e9e2e7-dfd2-491e-f669-5b52075d9835"
      },
      "execution_count": 53,
      "outputs": [
        {
          "output_type": "display_data",
          "data": {
            "image/png": "[encoded data removed]",
            "text/plain": [
              "<Figure size 432x288 with 1 Axes>"
            ]
          },
          "metadata": {
            "needs_background": "light"
          }
        }
      ]
    },
    {
      "cell_type": "markdown",
      "source": [
        "Выделение тренировочных данных"
      ],
      "metadata": {
        "id": "R3_H0EShpMPl"
      }
    },
    {
      "cell_type": "code",
      "source": [
        "train_data = pd.read_table(\"/train.tsv\", sep='\\t')\n",
        "train_data.to_csv('train.csv', index=False)\n",
        "train_data.head()"
      ],
      "metadata": {
        "colab": {
          "base_uri": "https://localhost:8080/",
          "height": 289
        },
        "id": "DZAhotjdpZ9m",
        "outputId": "f9a818aa-595a-428e-d313-eb3ba5cb3e57"
      },
      "execution_count": 51,
      "outputs": [
        {
          "output_type": "execute_result",
          "data": {
            "text/html": [
              "<div>\n",
              "<style scoped>\n",
              "    .dataframe tbody tr th:only-of-type {\n",
              "        vertical-align: middle;\n",
              "    }\n",
              "\n",
              "    .dataframe tbody tr th {\n",
              "        vertical-align: top;\n",
              "    }\n",
              "\n",
              "    .dataframe thead th {\n",
              "        text-align: right;\n",
              "    }\n",
              "</style>\n",
              "<table border=\"1\" class=\"dataframe\">\n",
              "  <thead>\n",
              "    <tr style=\"text-align: right;\">\n",
              "      <th></th>\n",
              "      <th>client_id</th>\n",
              "      <th>path</th>\n",
              "      <th>sentence</th>\n",
              "      <th>up_votes</th>\n",
              "      <th>down_votes</th>\n",
              "      <th>age</th>\n",
              "      <th>gender</th>\n",
              "      <th>accent</th>\n",
              "      <th>locale</th>\n",
              "      <th>segment</th>\n",
              "    </tr>\n",
              "  </thead>\n",
              "  <tbody>\n",
              "    <tr>\n",
              "      <th>0</th>\n",
              "      <td>119124394354a868c8f5bc2b09616c27f7521a639b06bd...</td>\n",
              "      <td>common_voice_ru_21949650.mp3</td>\n",
              "      <td>Теперь слово предоставляется Генеральному секр...</td>\n",
              "      <td>2</td>\n",
              "      <td>0</td>\n",
              "      <td>teens</td>\n",
              "      <td>male</td>\n",
              "      <td>NaN</td>\n",
              "      <td>ru</td>\n",
              "      <td>NaN</td>\n",
              "    </tr>\n",
              "    <tr>\n",
              "      <th>1</th>\n",
              "      <td>119124394354a868c8f5bc2b09616c27f7521a639b06bd...</td>\n",
              "      <td>common_voice_ru_21949651.mp3</td>\n",
              "      <td>В португальском языке такие слова, как жизнь, ...</td>\n",
              "      <td>2</td>\n",
              "      <td>0</td>\n",
              "      <td>teens</td>\n",
              "      <td>male</td>\n",
              "      <td>NaN</td>\n",
              "      <td>ru</td>\n",
              "      <td>NaN</td>\n",
              "    </tr>\n",
              "    <tr>\n",
              "      <th>2</th>\n",
              "      <td>119124394354a868c8f5bc2b09616c27f7521a639b06bd...</td>\n",
              "      <td>common_voice_ru_21949693.mp3</td>\n",
              "      <td>За прошедший год значительно продвинулось суде...</td>\n",
              "      <td>2</td>\n",
              "      <td>0</td>\n",
              "      <td>teens</td>\n",
              "      <td>male</td>\n",
              "      <td>NaN</td>\n",
              "      <td>ru</td>\n",
              "      <td>NaN</td>\n",
              "    </tr>\n",
              "    <tr>\n",
              "      <th>3</th>\n",
              "      <td>119124394354a868c8f5bc2b09616c27f7521a639b06bd...</td>\n",
              "      <td>common_voice_ru_21949699.mp3</td>\n",
              "      <td>Я предоставляю слово наблюдателю от Святого Пр...</td>\n",
              "      <td>2</td>\n",
              "      <td>0</td>\n",
              "      <td>teens</td>\n",
              "      <td>male</td>\n",
              "      <td>NaN</td>\n",
              "      <td>ru</td>\n",
              "      <td>NaN</td>\n",
              "    </tr>\n",
              "    <tr>\n",
              "      <th>4</th>\n",
              "      <td>119124394354a868c8f5bc2b09616c27f7521a639b06bd...</td>\n",
              "      <td>common_voice_ru_21949704.mp3</td>\n",
              "      <td>Швейцария стала одним из ее авторов.</td>\n",
              "      <td>2</td>\n",
              "      <td>0</td>\n",
              "      <td>teens</td>\n",
              "      <td>male</td>\n",
              "      <td>NaN</td>\n",
              "      <td>ru</td>\n",
              "      <td>NaN</td>\n",
              "    </tr>\n",
              "  </tbody>\n",
              "</table>\n",
              "</div>"
            ],
            "text/plain": [
              "                                           client_id  ... segment\n",
              "0  119124394354a868c8f5bc2b09616c27f7521a639b06bd...  ...     NaN\n",
              "1  119124394354a868c8f5bc2b09616c27f7521a639b06bd...  ...     NaN\n",
              "2  119124394354a868c8f5bc2b09616c27f7521a639b06bd...  ...     NaN\n",
              "3  119124394354a868c8f5bc2b09616c27f7521a639b06bd...  ...     NaN\n",
              "4  119124394354a868c8f5bc2b09616c27f7521a639b06bd...  ...     NaN\n",
              "\n",
              "[5 rows x 10 columns]"
            ]
          },
          "metadata": {},
          "execution_count": 51
        }
      ]
    },
    {
      "cell_type": "markdown",
      "source": [
        "Вывод графика тренировочных данных без очистки"
      ],
      "metadata": {
        "id": "oG17gON5pzXD"
      }
    },
    {
      "cell_type": "code",
      "source": [
        "list(train_data.columns)\n",
        "items = Counter(train_data.gender)\n",
        "srs = pd.DataFrame.from_dict(items, orient='index')\n",
        "srs = srs[0].sort_values(ascending=True)\n",
        "\n",
        "srs.plot(kind='bar')\n",
        "plt.xlabel('Gender')\n",
        "plt.ylabel('Amount')\n",
        "plt.title('Amount of people in different genders')\n",
        "plt.show()"
      ],
      "metadata": {
        "colab": {
          "base_uri": "https://localhost:8080/",
          "height": 320
        },
        "id": "sEVsV9Llp4pi",
        "outputId": "96a9919b-da60-4139-df94-2f13506ab958"
      },
      "execution_count": 55,
      "outputs": [
        {
          "output_type": "display_data",
          "data": {
            "image/png": "[encoded data removed]",
            "text/plain": [
              "<Figure size 432x288 with 1 Axes>"
            ]
          },
          "metadata": {
            "needs_background": "light"
          }
        }
      ]
    },
    {
      "cell_type": "markdown",
      "source": [
        "Исключение ненужных полей из графика"
      ],
      "metadata": {
        "id": "m57rCJFCqF3w"
      }
    },
    {
      "cell_type": "code",
      "source": [
        "train_data = train_data[train_data.gender.notnull()]\n",
        "train_data = train_data[train_data.gender != 'other']\n",
        "list(train_data.columns)\n",
        "items = Counter(train_data.gender)\n",
        "srs = pd.DataFrame.from_dict(items, orient='index')\n",
        "srs = srs[0].sort_values(ascending=True)\n",
        "\n",
        "srs.plot(kind='bar')\n",
        "plt.xlabel('Gender')\n",
        "plt.ylabel('Amount')\n",
        "plt.title('Amount of people in different genders')\n",
        "plt.show()"
      ],
      "metadata": {
        "colab": {
          "base_uri": "https://localhost:8080/",
          "height": 320
        },
        "id": "LVrdPZmPqOAO",
        "outputId": "bce84040-3d85-4c88-a860-faaf5778f771"
      },
      "execution_count": 56,
      "outputs": [
        {
          "output_type": "display_data",
          "data": {
            "image/png": "[encoded data removed]",
            "text/plain": [
              "<Figure size 432x288 with 1 Axes>"
            ]
          },
          "metadata": {
            "needs_background": "light"
          }
        }
      ]
    },
    {
      "cell_type": "markdown",
      "source": [
        "Выделение тестовых данных"
      ],
      "metadata": {
        "id": "j6NRej9cqtgf"
      }
    },
    {
      "cell_type": "code",
      "source": [
        "test_data = pd.read_table(\"/test.tsv\", sep='\\t')\n",
        "test_data.to_csv('test.csv', index=False)\n",
        "test_data.head()"
      ],
      "metadata": {
        "colab": {
          "base_uri": "https://localhost:8080/",
          "height": 289
        },
        "id": "r5F4jLyCqyYp",
        "outputId": "3f8e12eb-050f-49b5-dfa1-3a6867b3b172"
      },
      "execution_count": 57,
      "outputs": [
        {
          "output_type": "execute_result",
          "data": {
            "text/html": [
              "<div>\n",
              "<style scoped>\n",
              "    .dataframe tbody tr th:only-of-type {\n",
              "        vertical-align: middle;\n",
              "    }\n",
              "\n",
              "    .dataframe tbody tr th {\n",
              "        vertical-align: top;\n",
              "    }\n",
              "\n",
              "    .dataframe thead th {\n",
              "        text-align: right;\n",
              "    }\n",
              "</style>\n",
              "<table border=\"1\" class=\"dataframe\">\n",
              "  <thead>\n",
              "    <tr style=\"text-align: right;\">\n",
              "      <th></th>\n",
              "      <th>client_id</th>\n",
              "      <th>path</th>\n",
              "      <th>sentence</th>\n",
              "      <th>up_votes</th>\n",
              "      <th>down_votes</th>\n",
              "      <th>age</th>\n",
              "      <th>gender</th>\n",
              "      <th>accent</th>\n",
              "      <th>locale</th>\n",
              "      <th>segment</th>\n",
              "    </tr>\n",
              "  </thead>\n",
              "  <tbody>\n",
              "    <tr>\n",
              "      <th>0</th>\n",
              "      <td>002fbee74be6b73a21a0a493965c0fcd5cadcbb74da966...</td>\n",
              "      <td>common_voice_ru_25792615.mp3</td>\n",
              "      <td>Внешние отношения Алексея Александровича с жен...</td>\n",
              "      <td>2</td>\n",
              "      <td>0</td>\n",
              "      <td>NaN</td>\n",
              "      <td>NaN</td>\n",
              "      <td>NaN</td>\n",
              "      <td>ru</td>\n",
              "      <td>NaN</td>\n",
              "    </tr>\n",
              "    <tr>\n",
              "      <th>1</th>\n",
              "      <td>0076d72b93a07cfe19b8ab8f8b8f25459fde5fdabb4ebc...</td>\n",
              "      <td>common_voice_ru_26778765.mp3</td>\n",
              "      <td>Повреждать систему, в том числе устанавливать ...</td>\n",
              "      <td>2</td>\n",
              "      <td>0</td>\n",
              "      <td>fourties</td>\n",
              "      <td>female</td>\n",
              "      <td>NaN</td>\n",
              "      <td>ru</td>\n",
              "      <td>NaN</td>\n",
              "    </tr>\n",
              "    <tr>\n",
              "      <th>2</th>\n",
              "      <td>01648c1613193e9f272373de6867c358d542ae833de4da...</td>\n",
              "      <td>common_voice_ru_26587318.mp3</td>\n",
              "      <td>К сожалению, эти предложения не нашли отражени...</td>\n",
              "      <td>2</td>\n",
              "      <td>0</td>\n",
              "      <td>NaN</td>\n",
              "      <td>NaN</td>\n",
              "      <td>NaN</td>\n",
              "      <td>ru</td>\n",
              "      <td>NaN</td>\n",
              "    </tr>\n",
              "    <tr>\n",
              "      <th>3</th>\n",
              "      <td>081340f4cbaab50d8b9606a52488eb0614edd77eb782a4...</td>\n",
              "      <td>common_voice_ru_19468869.mp3</td>\n",
              "      <td>Если не будет возражений, я буду считать, что ...</td>\n",
              "      <td>2</td>\n",
              "      <td>0</td>\n",
              "      <td>NaN</td>\n",
              "      <td>NaN</td>\n",
              "      <td>NaN</td>\n",
              "      <td>ru</td>\n",
              "      <td>NaN</td>\n",
              "    </tr>\n",
              "    <tr>\n",
              "      <th>4</th>\n",
              "      <td>0ca241e701b2431a3b286c4c9f5f42946eae11ec0cd540...</td>\n",
              "      <td>common_voice_ru_25189464.mp3</td>\n",
              "      <td>Мы особенно рады отметить, что число скрывающи...</td>\n",
              "      <td>2</td>\n",
              "      <td>0</td>\n",
              "      <td>NaN</td>\n",
              "      <td>NaN</td>\n",
              "      <td>NaN</td>\n",
              "      <td>ru</td>\n",
              "      <td>NaN</td>\n",
              "    </tr>\n",
              "  </tbody>\n",
              "</table>\n",
              "</div>"
            ],
            "text/plain": [
              "                                           client_id  ... segment\n",
              "0  002fbee74be6b73a21a0a493965c0fcd5cadcbb74da966...  ...     NaN\n",
              "1  0076d72b93a07cfe19b8ab8f8b8f25459fde5fdabb4ebc...  ...     NaN\n",
              "2  01648c1613193e9f272373de6867c358d542ae833de4da...  ...     NaN\n",
              "3  081340f4cbaab50d8b9606a52488eb0614edd77eb782a4...  ...     NaN\n",
              "4  0ca241e701b2431a3b286c4c9f5f42946eae11ec0cd540...  ...     NaN\n",
              "\n",
              "[5 rows x 10 columns]"
            ]
          },
          "metadata": {},
          "execution_count": 57
        }
      ]
    },
    {
      "cell_type": "markdown",
      "source": [
        "Вывод графика тестовых данных без очистки"
      ],
      "metadata": {
        "id": "uCmgoppKrAOf"
      }
    },
    {
      "cell_type": "code",
      "source": [
        "list(test_data.columns)\n",
        "items = Counter(test_data.gender)\n",
        "srs = pd.DataFrame.from_dict(items, orient='index')\n",
        "srs = srs[0].sort_values(ascending=True)\n",
        "\n",
        "srs.plot(kind='bar')\n",
        "plt.xlabel('Gender')\n",
        "plt.ylabel('Amount')\n",
        "plt.title('Amount of people in different genders')\n",
        "plt.show()"
      ],
      "metadata": {
        "colab": {
          "base_uri": "https://localhost:8080/",
          "height": 320
        },
        "id": "d7J0cYoxrFwt",
        "outputId": "4f0ced36-4657-4898-8676-123b5bcdb289"
      },
      "execution_count": 58,
      "outputs": [
        {
          "output_type": "display_data",
          "data": {
            "image/png": "[encoded data removed]",
            "text/plain": [
              "<Figure size 432x288 with 1 Axes>"
            ]
          },
          "metadata": {
            "needs_background": "light"
          }
        }
      ]
    },
    {
      "cell_type": "markdown",
      "source": [
        "Очистка тестовых данных"
      ],
      "metadata": {
        "id": "Zg52aHqLrStI"
      }
    },
    {
      "cell_type": "code",
      "source": [
        "test_data = test_data[test_data.gender.notnull()]\n",
        "list(test_data.columns)\n",
        "items = Counter(test_data.gender)\n",
        "srs = pd.DataFrame.from_dict(items, orient='index')\n",
        "srs = srs[0].sort_values(ascending=True)\n",
        "\n",
        "srs.plot(kind='bar')\n",
        "plt.xlabel('Gender')\n",
        "plt.ylabel('Amount')\n",
        "plt.title('Amount of people in different genders')\n",
        "plt.show()"
      ],
      "metadata": {
        "colab": {
          "base_uri": "https://localhost:8080/",
          "height": 320
        },
        "id": "vjrrUyCOrWFR",
        "outputId": "0c2c88ec-c3ea-4206-886c-8dde6c5954ce"
      },
      "execution_count": 59,
      "outputs": [
        {
          "output_type": "display_data",
          "data": {
            "image/png": "[encoded data removed]",
            "text/plain": [
              "<Figure size 432x288 with 1 Axes>"
            ]
          },
          "metadata": {
            "needs_background": "light"
          }
        }
      ]
    }
  ]
}