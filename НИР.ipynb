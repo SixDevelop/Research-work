{
  "cells": [
    {
      "cell_type": "markdown",
      "metadata": {
        "colab_type": "text",
        "id": "view-in-github"
      },
      "source": [
        "<a href=\"https://colab.research.google.com/github/SixDevelop/Research-work/blob/main/%D0%9D%D0%98%D0%A0.ipynb\" target=\"_parent\"><img src=\"https://colab.research.google.com/assets/colab-badge.svg\" alt=\"Open In Colab\"/></a>"
      ]
    },
    {
      "cell_type": "markdown",
      "metadata": {
        "id": "s-95GlkqOgOe"
      },
      "source": [
        "# Импорт датасета и его анализ\n",
        "\n",
        "\n",
        "\n",
        "---\n",
        "\n"
      ]
    },
    {
      "cell_type": "markdown",
      "metadata": {
        "id": "ny2k9rDdRdsQ"
      },
      "source": [
        "**Импорты**"
      ]
    },
    {
      "cell_type": "code",
      "execution_count": 26,
      "metadata": {
        "id": "WTlLiuOAOciI"
      },
      "outputs": [],
      "source": [
        "import matplotlib.pyplot as plt\n",
        "import numpy as np\n",
        "import pandas as pd\n",
        "import time\n",
        "import csv\n",
        "from matplotlib.figure import Figure \n",
        "from matplotlib.axes import Axes\n",
        "from numpy import ndarray\n",
        "from collections import Counter\n",
        "import matplotlib.gridspec as gridspec\n",
        "\n",
        "from mutagen.mp3 import MP3\n",
        "from inaSpeechSegmenter import Segmenter\n",
        "from inaSpeechSegmenter.export_funcs import seg2csv, seg2textgrid\n",
        "import ffmpeg"
      ]
    },
    {
      "cell_type": "markdown",
      "metadata": {},
      "source": [
        "Дефолтные данные"
      ]
    },
    {
      "cell_type": "code",
      "execution_count": 28,
      "metadata": {},
      "outputs": [],
      "source": [
        "path = 'cv-corpus-7.0-2021-07-21/ru/clips/'"
      ]
    },
    {
      "cell_type": "markdown",
      "metadata": {
        "id": "X_tQQgBAVI7g"
      },
      "source": [
        "**Получение csv таблицы**"
      ]
    },
    {
      "cell_type": "code",
      "execution_count": 2,
      "metadata": {
        "colab": {
          "base_uri": "https://localhost:8080/",
          "height": 289
        },
        "id": "3kf5imL3SX_R",
        "outputId": "41a701d6-d84b-4a6a-8a26-2e39ca5b17d0"
      },
      "outputs": [
        {
          "data": {
            "text/html": [
              "<div>\n",
              "<style scoped>\n",
              "    .dataframe tbody tr th:only-of-type {\n",
              "        vertical-align: middle;\n",
              "    }\n",
              "\n",
              "    .dataframe tbody tr th {\n",
              "        vertical-align: top;\n",
              "    }\n",
              "\n",
              "    .dataframe thead th {\n",
              "        text-align: right;\n",
              "    }\n",
              "</style>\n",
              "<table border=\"1\" class=\"dataframe\">\n",
              "  <thead>\n",
              "    <tr style=\"text-align: right;\">\n",
              "      <th></th>\n",
              "      <th>client_id</th>\n",
              "      <th>path</th>\n",
              "      <th>sentence</th>\n",
              "      <th>up_votes</th>\n",
              "      <th>down_votes</th>\n",
              "      <th>age</th>\n",
              "      <th>gender</th>\n",
              "      <th>accent</th>\n",
              "      <th>locale</th>\n",
              "      <th>segment</th>\n",
              "    </tr>\n",
              "  </thead>\n",
              "  <tbody>\n",
              "    <tr>\n",
              "      <th>0</th>\n",
              "      <td>002fbee74be6b73a21a0a493965c0fcd5cadcbb74da966...</td>\n",
              "      <td>common_voice_ru_25792615.mp3</td>\n",
              "      <td>Внешние отношения Алексея Александровича с жен...</td>\n",
              "      <td>2</td>\n",
              "      <td>0</td>\n",
              "      <td>NaN</td>\n",
              "      <td>NaN</td>\n",
              "      <td>NaN</td>\n",
              "      <td>ru</td>\n",
              "      <td>NaN</td>\n",
              "    </tr>\n",
              "    <tr>\n",
              "      <th>1</th>\n",
              "      <td>0076d72b93a07cfe19b8ab8f8b8f25459fde5fdabb4ebc...</td>\n",
              "      <td>common_voice_ru_26778765.mp3</td>\n",
              "      <td>Повреждать систему, в том числе устанавливать ...</td>\n",
              "      <td>2</td>\n",
              "      <td>0</td>\n",
              "      <td>fourties</td>\n",
              "      <td>female</td>\n",
              "      <td>NaN</td>\n",
              "      <td>ru</td>\n",
              "      <td>NaN</td>\n",
              "    </tr>\n",
              "    <tr>\n",
              "      <th>2</th>\n",
              "      <td>01648c1613193e9f272373de6867c358d542ae833de4da...</td>\n",
              "      <td>common_voice_ru_26587318.mp3</td>\n",
              "      <td>К сожалению, эти предложения не нашли отражени...</td>\n",
              "      <td>2</td>\n",
              "      <td>0</td>\n",
              "      <td>NaN</td>\n",
              "      <td>NaN</td>\n",
              "      <td>NaN</td>\n",
              "      <td>ru</td>\n",
              "      <td>NaN</td>\n",
              "    </tr>\n",
              "    <tr>\n",
              "      <th>3</th>\n",
              "      <td>081340f4cbaab50d8b9606a52488eb0614edd77eb782a4...</td>\n",
              "      <td>common_voice_ru_19468869.mp3</td>\n",
              "      <td>Если не будет возражений, я буду считать, что ...</td>\n",
              "      <td>2</td>\n",
              "      <td>0</td>\n",
              "      <td>NaN</td>\n",
              "      <td>NaN</td>\n",
              "      <td>NaN</td>\n",
              "      <td>ru</td>\n",
              "      <td>NaN</td>\n",
              "    </tr>\n",
              "    <tr>\n",
              "      <th>4</th>\n",
              "      <td>0ca241e701b2431a3b286c4c9f5f42946eae11ec0cd540...</td>\n",
              "      <td>common_voice_ru_25189464.mp3</td>\n",
              "      <td>Мы особенно рады отметить, что число скрывающи...</td>\n",
              "      <td>2</td>\n",
              "      <td>0</td>\n",
              "      <td>NaN</td>\n",
              "      <td>NaN</td>\n",
              "      <td>NaN</td>\n",
              "      <td>ru</td>\n",
              "      <td>NaN</td>\n",
              "    </tr>\n",
              "  </tbody>\n",
              "</table>\n",
              "</div>"
            ],
            "text/plain": [
              "                                           client_id  \\\n",
              "0  002fbee74be6b73a21a0a493965c0fcd5cadcbb74da966...   \n",
              "1  0076d72b93a07cfe19b8ab8f8b8f25459fde5fdabb4ebc...   \n",
              "2  01648c1613193e9f272373de6867c358d542ae833de4da...   \n",
              "3  081340f4cbaab50d8b9606a52488eb0614edd77eb782a4...   \n",
              "4  0ca241e701b2431a3b286c4c9f5f42946eae11ec0cd540...   \n",
              "\n",
              "                           path  \\\n",
              "0  common_voice_ru_25792615.mp3   \n",
              "1  common_voice_ru_26778765.mp3   \n",
              "2  common_voice_ru_26587318.mp3   \n",
              "3  common_voice_ru_19468869.mp3   \n",
              "4  common_voice_ru_25189464.mp3   \n",
              "\n",
              "                                            sentence  up_votes  down_votes  \\\n",
              "0  Внешние отношения Алексея Александровича с жен...         2           0   \n",
              "1  Повреждать систему, в том числе устанавливать ...         2           0   \n",
              "2  К сожалению, эти предложения не нашли отражени...         2           0   \n",
              "3  Если не будет возражений, я буду считать, что ...         2           0   \n",
              "4  Мы особенно рады отметить, что число скрывающи...         2           0   \n",
              "\n",
              "        age  gender  accent locale segment  \n",
              "0       NaN     NaN     NaN     ru     NaN  \n",
              "1  fourties  female     NaN     ru     NaN  \n",
              "2       NaN     NaN     NaN     ru     NaN  \n",
              "3       NaN     NaN     NaN     ru     NaN  \n",
              "4       NaN     NaN     NaN     ru     NaN  "
            ]
          },
          "execution_count": 2,
          "metadata": {},
          "output_type": "execute_result"
        }
      ],
      "source": [
        "full_data = pd.read_table(\"/Users/sergey/Documents/GitHub/Research-work/cv-corpus-7.0-2021-07-21/ru/validated.tsv\", sep='\\t')\n",
        "full_data.to_csv('validated.csv', index=False)\n",
        "full_data.head()"
      ]
    },
    {
      "cell_type": "markdown",
      "metadata": {
        "id": "T_xCVxfdVPZV"
      },
      "source": [
        "**Вывод графика полных данных по полу без очистки таблицы от незаполненных полей**"
      ]
    },
    {
      "cell_type": "code",
      "execution_count": 3,
      "metadata": {
        "colab": {
          "base_uri": "https://localhost:8080/",
          "height": 320
        },
        "id": "PNtEhz3RVcD6",
        "outputId": "ad03a236-0439-42c3-b594-e8c27d894bfc"
      },
      "outputs": [
        {
          "data": {
            "image/png": "[encoded data removed]",
            "text/plain": [
              "<Figure size 432x288 with 1 Axes>"
            ]
          },
          "metadata": {
            "needs_background": "light"
          },
          "output_type": "display_data"
        }
      ],
      "source": [
        "list(full_data.columns)\n",
        "items = Counter(full_data.gender)\n",
        "srs = pd.DataFrame.from_dict(items, orient='index')\n",
        "srs = srs[0].sort_values(ascending=True)\n",
        "\n",
        "srs.plot(kind='bar')\n",
        "plt.xlabel('Gender')\n",
        "plt.ylabel('Amount')\n",
        "plt.title('Amount of people in different genders')\n",
        "plt.show()\n"
      ]
    },
    {
      "cell_type": "markdown",
      "metadata": {
        "id": "4Yytl48-Z9Fj"
      },
      "source": [
        "**Исключение ненужных полей из графика**"
      ]
    },
    {
      "cell_type": "code",
      "execution_count": 4,
      "metadata": {
        "colab": {
          "base_uri": "https://localhost:8080/",
          "height": 320
        },
        "id": "2ZsfjWuraJpq",
        "outputId": "f3e9e2e7-dfd2-491e-f669-5b52075d9835"
      },
      "outputs": [
        {
          "data": {
            "image/png": "[encoded data removed]",
            "text/plain": [
              "<Figure size 432x288 with 1 Axes>"
            ]
          },
          "metadata": {
            "needs_background": "light"
          },
          "output_type": "display_data"
        }
      ],
      "source": [
        "\n",
        "full_data = full_data[full_data.gender.notnull()]\n",
        "full_data = full_data[full_data.gender != 'other']\n",
        "full_data.head()\n",
        "list(full_data.columns)\n",
        "items = Counter(full_data.gender)\n",
        "srs = pd.DataFrame.from_dict(items, orient='index')\n",
        "srs = srs[0].sort_values(ascending=True)\n",
        "\n",
        "srs.plot(kind='bar')\n",
        "plt.xlabel('Gender')\n",
        "plt.ylabel('Amount')\n",
        "plt.title('Amount of people in different genders')\n",
        "plt.show()"
      ]
    },
    {
      "cell_type": "markdown",
      "metadata": {
        "id": "R3_H0EShpMPl"
      },
      "source": [
        "Выделение тренировочных данных"
      ]
    },
    {
      "cell_type": "code",
      "execution_count": 5,
      "metadata": {
        "colab": {
          "base_uri": "https://localhost:8080/",
          "height": 289
        },
        "id": "DZAhotjdpZ9m",
        "outputId": "f9a818aa-595a-428e-d313-eb3ba5cb3e57"
      },
      "outputs": [
        {
          "data": {
            "text/html": [
              "<div>\n",
              "<style scoped>\n",
              "    .dataframe tbody tr th:only-of-type {\n",
              "        vertical-align: middle;\n",
              "    }\n",
              "\n",
              "    .dataframe tbody tr th {\n",
              "        vertical-align: top;\n",
              "    }\n",
              "\n",
              "    .dataframe thead th {\n",
              "        text-align: right;\n",
              "    }\n",
              "</style>\n",
              "<table border=\"1\" class=\"dataframe\">\n",
              "  <thead>\n",
              "    <tr style=\"text-align: right;\">\n",
              "      <th></th>\n",
              "      <th>client_id</th>\n",
              "      <th>path</th>\n",
              "      <th>sentence</th>\n",
              "      <th>up_votes</th>\n",
              "      <th>down_votes</th>\n",
              "      <th>age</th>\n",
              "      <th>gender</th>\n",
              "      <th>accent</th>\n",
              "      <th>locale</th>\n",
              "      <th>segment</th>\n",
              "    </tr>\n",
              "  </thead>\n",
              "  <tbody>\n",
              "    <tr>\n",
              "      <th>0</th>\n",
              "      <td>119124394354a868c8f5bc2b09616c27f7521a639b06bd...</td>\n",
              "      <td>common_voice_ru_21949650.mp3</td>\n",
              "      <td>Теперь слово предоставляется Генеральному секр...</td>\n",
              "      <td>2</td>\n",
              "      <td>0</td>\n",
              "      <td>teens</td>\n",
              "      <td>male</td>\n",
              "      <td>NaN</td>\n",
              "      <td>ru</td>\n",
              "      <td>NaN</td>\n",
              "    </tr>\n",
              "    <tr>\n",
              "      <th>1</th>\n",
              "      <td>119124394354a868c8f5bc2b09616c27f7521a639b06bd...</td>\n",
              "      <td>common_voice_ru_21949651.mp3</td>\n",
              "      <td>В португальском языке такие слова, как жизнь, ...</td>\n",
              "      <td>2</td>\n",
              "      <td>0</td>\n",
              "      <td>teens</td>\n",
              "      <td>male</td>\n",
              "      <td>NaN</td>\n",
              "      <td>ru</td>\n",
              "      <td>NaN</td>\n",
              "    </tr>\n",
              "    <tr>\n",
              "      <th>2</th>\n",
              "      <td>119124394354a868c8f5bc2b09616c27f7521a639b06bd...</td>\n",
              "      <td>common_voice_ru_21949693.mp3</td>\n",
              "      <td>За прошедший год значительно продвинулось суде...</td>\n",
              "      <td>2</td>\n",
              "      <td>0</td>\n",
              "      <td>teens</td>\n",
              "      <td>male</td>\n",
              "      <td>NaN</td>\n",
              "      <td>ru</td>\n",
              "      <td>NaN</td>\n",
              "    </tr>\n",
              "    <tr>\n",
              "      <th>3</th>\n",
              "      <td>119124394354a868c8f5bc2b09616c27f7521a639b06bd...</td>\n",
              "      <td>common_voice_ru_21949699.mp3</td>\n",
              "      <td>Я предоставляю слово наблюдателю от Святого Пр...</td>\n",
              "      <td>2</td>\n",
              "      <td>0</td>\n",
              "      <td>teens</td>\n",
              "      <td>male</td>\n",
              "      <td>NaN</td>\n",
              "      <td>ru</td>\n",
              "      <td>NaN</td>\n",
              "    </tr>\n",
              "    <tr>\n",
              "      <th>4</th>\n",
              "      <td>119124394354a868c8f5bc2b09616c27f7521a639b06bd...</td>\n",
              "      <td>common_voice_ru_21949704.mp3</td>\n",
              "      <td>Швейцария стала одним из ее авторов.</td>\n",
              "      <td>2</td>\n",
              "      <td>0</td>\n",
              "      <td>teens</td>\n",
              "      <td>male</td>\n",
              "      <td>NaN</td>\n",
              "      <td>ru</td>\n",
              "      <td>NaN</td>\n",
              "    </tr>\n",
              "  </tbody>\n",
              "</table>\n",
              "</div>"
            ],
            "text/plain": [
              "                                           client_id  \\\n",
              "0  119124394354a868c8f5bc2b09616c27f7521a639b06bd...   \n",
              "1  119124394354a868c8f5bc2b09616c27f7521a639b06bd...   \n",
              "2  119124394354a868c8f5bc2b09616c27f7521a639b06bd...   \n",
              "3  119124394354a868c8f5bc2b09616c27f7521a639b06bd...   \n",
              "4  119124394354a868c8f5bc2b09616c27f7521a639b06bd...   \n",
              "\n",
              "                           path  \\\n",
              "0  common_voice_ru_21949650.mp3   \n",
              "1  common_voice_ru_21949651.mp3   \n",
              "2  common_voice_ru_21949693.mp3   \n",
              "3  common_voice_ru_21949699.mp3   \n",
              "4  common_voice_ru_21949704.mp3   \n",
              "\n",
              "                                            sentence  up_votes  down_votes  \\\n",
              "0  Теперь слово предоставляется Генеральному секр...         2           0   \n",
              "1  В португальском языке такие слова, как жизнь, ...         2           0   \n",
              "2  За прошедший год значительно продвинулось суде...         2           0   \n",
              "3  Я предоставляю слово наблюдателю от Святого Пр...         2           0   \n",
              "4               Швейцария стала одним из ее авторов.         2           0   \n",
              "\n",
              "     age gender  accent locale  segment  \n",
              "0  teens   male     NaN     ru      NaN  \n",
              "1  teens   male     NaN     ru      NaN  \n",
              "2  teens   male     NaN     ru      NaN  \n",
              "3  teens   male     NaN     ru      NaN  \n",
              "4  teens   male     NaN     ru      NaN  "
            ]
          },
          "execution_count": 5,
          "metadata": {},
          "output_type": "execute_result"
        }
      ],
      "source": [
        "train_data = pd.read_table(\"/Users/sergey/Documents/GitHub/Research-work/cv-corpus-7.0-2021-07-21/ru/train.tsv\", sep='\\t')\n",
        "train_data.to_csv('train.csv', index=False)\n",
        "train_data.head()"
      ]
    },
    {
      "cell_type": "markdown",
      "metadata": {
        "id": "oG17gON5pzXD"
      },
      "source": [
        "Вывод графика тренировочных данных без очистки"
      ]
    },
    {
      "cell_type": "code",
      "execution_count": 6,
      "metadata": {
        "colab": {
          "base_uri": "https://localhost:8080/",
          "height": 320
        },
        "id": "sEVsV9Llp4pi",
        "outputId": "96a9919b-da60-4139-df94-2f13506ab958"
      },
      "outputs": [
        {
          "data": {
            "image/png": "[encoded data removed]",
            "text/plain": [
              "<Figure size 432x288 with 1 Axes>"
            ]
          },
          "metadata": {
            "needs_background": "light"
          },
          "output_type": "display_data"
        }
      ],
      "source": [
        "list(train_data.columns)\n",
        "items = Counter(train_data.gender)\n",
        "srs = pd.DataFrame.from_dict(items, orient='index')\n",
        "srs = srs[0].sort_values(ascending=True)\n",
        "\n",
        "srs.plot(kind='bar')\n",
        "plt.xlabel('Gender')\n",
        "plt.ylabel('Amount')\n",
        "plt.title('Amount of people in different genders')\n",
        "plt.show()"
      ]
    },
    {
      "cell_type": "markdown",
      "metadata": {
        "id": "m57rCJFCqF3w"
      },
      "source": [
        "Исключение ненужных полей из графика"
      ]
    },
    {
      "cell_type": "code",
      "execution_count": 7,
      "metadata": {
        "colab": {
          "base_uri": "https://localhost:8080/",
          "height": 320
        },
        "id": "LVrdPZmPqOAO",
        "outputId": "bce84040-3d85-4c88-a860-faaf5778f771"
      },
      "outputs": [
        {
          "data": {
            "image/png": "[encoded data removed]",
            "text/plain": [
              "<Figure size 432x288 with 1 Axes>"
            ]
          },
          "metadata": {
            "needs_background": "light"
          },
          "output_type": "display_data"
        }
      ],
      "source": [
        "train_data = train_data[train_data.gender.notnull()]\n",
        "train_data = train_data[train_data.gender != 'other']\n",
        "list(train_data.columns)\n",
        "items = Counter(train_data.gender)\n",
        "srs = pd.DataFrame.from_dict(items, orient='index')\n",
        "srs = srs[0].sort_values(ascending=True)\n",
        "\n",
        "srs.plot(kind='bar')\n",
        "plt.xlabel('Gender')\n",
        "plt.ylabel('Amount')\n",
        "plt.title('Amount of people in different genders')\n",
        "plt.show()"
      ]
    },
    {
      "cell_type": "markdown",
      "metadata": {
        "id": "j6NRej9cqtgf"
      },
      "source": [
        "Выделение тестовых данных"
      ]
    },
    {
      "cell_type": "code",
      "execution_count": 8,
      "metadata": {
        "colab": {
          "base_uri": "https://localhost:8080/",
          "height": 289
        },
        "id": "r5F4jLyCqyYp",
        "outputId": "3f8e12eb-050f-49b5-dfa1-3a6867b3b172"
      },
      "outputs": [
        {
          "data": {
            "text/html": [
              "<div>\n",
              "<style scoped>\n",
              "    .dataframe tbody tr th:only-of-type {\n",
              "        vertical-align: middle;\n",
              "    }\n",
              "\n",
              "    .dataframe tbody tr th {\n",
              "        vertical-align: top;\n",
              "    }\n",
              "\n",
              "    .dataframe thead th {\n",
              "        text-align: right;\n",
              "    }\n",
              "</style>\n",
              "<table border=\"1\" class=\"dataframe\">\n",
              "  <thead>\n",
              "    <tr style=\"text-align: right;\">\n",
              "      <th></th>\n",
              "      <th>client_id</th>\n",
              "      <th>path</th>\n",
              "      <th>sentence</th>\n",
              "      <th>up_votes</th>\n",
              "      <th>down_votes</th>\n",
              "      <th>age</th>\n",
              "      <th>gender</th>\n",
              "      <th>accent</th>\n",
              "      <th>locale</th>\n",
              "      <th>segment</th>\n",
              "    </tr>\n",
              "  </thead>\n",
              "  <tbody>\n",
              "    <tr>\n",
              "      <th>0</th>\n",
              "      <td>002fbee74be6b73a21a0a493965c0fcd5cadcbb74da966...</td>\n",
              "      <td>common_voice_ru_25792615.mp3</td>\n",
              "      <td>Внешние отношения Алексея Александровича с жен...</td>\n",
              "      <td>2</td>\n",
              "      <td>0</td>\n",
              "      <td>NaN</td>\n",
              "      <td>NaN</td>\n",
              "      <td>NaN</td>\n",
              "      <td>ru</td>\n",
              "      <td>NaN</td>\n",
              "    </tr>\n",
              "    <tr>\n",
              "      <th>1</th>\n",
              "      <td>0076d72b93a07cfe19b8ab8f8b8f25459fde5fdabb4ebc...</td>\n",
              "      <td>common_voice_ru_26778765.mp3</td>\n",
              "      <td>Повреждать систему, в том числе устанавливать ...</td>\n",
              "      <td>2</td>\n",
              "      <td>0</td>\n",
              "      <td>fourties</td>\n",
              "      <td>female</td>\n",
              "      <td>NaN</td>\n",
              "      <td>ru</td>\n",
              "      <td>NaN</td>\n",
              "    </tr>\n",
              "    <tr>\n",
              "      <th>2</th>\n",
              "      <td>01648c1613193e9f272373de6867c358d542ae833de4da...</td>\n",
              "      <td>common_voice_ru_26587318.mp3</td>\n",
              "      <td>К сожалению, эти предложения не нашли отражени...</td>\n",
              "      <td>2</td>\n",
              "      <td>0</td>\n",
              "      <td>NaN</td>\n",
              "      <td>NaN</td>\n",
              "      <td>NaN</td>\n",
              "      <td>ru</td>\n",
              "      <td>NaN</td>\n",
              "    </tr>\n",
              "    <tr>\n",
              "      <th>3</th>\n",
              "      <td>081340f4cbaab50d8b9606a52488eb0614edd77eb782a4...</td>\n",
              "      <td>common_voice_ru_19468869.mp3</td>\n",
              "      <td>Если не будет возражений, я буду считать, что ...</td>\n",
              "      <td>2</td>\n",
              "      <td>0</td>\n",
              "      <td>NaN</td>\n",
              "      <td>NaN</td>\n",
              "      <td>NaN</td>\n",
              "      <td>ru</td>\n",
              "      <td>NaN</td>\n",
              "    </tr>\n",
              "    <tr>\n",
              "      <th>4</th>\n",
              "      <td>0ca241e701b2431a3b286c4c9f5f42946eae11ec0cd540...</td>\n",
              "      <td>common_voice_ru_25189464.mp3</td>\n",
              "      <td>Мы особенно рады отметить, что число скрывающи...</td>\n",
              "      <td>2</td>\n",
              "      <td>0</td>\n",
              "      <td>NaN</td>\n",
              "      <td>NaN</td>\n",
              "      <td>NaN</td>\n",
              "      <td>ru</td>\n",
              "      <td>NaN</td>\n",
              "    </tr>\n",
              "  </tbody>\n",
              "</table>\n",
              "</div>"
            ],
            "text/plain": [
              "                                           client_id  \\\n",
              "0  002fbee74be6b73a21a0a493965c0fcd5cadcbb74da966...   \n",
              "1  0076d72b93a07cfe19b8ab8f8b8f25459fde5fdabb4ebc...   \n",
              "2  01648c1613193e9f272373de6867c358d542ae833de4da...   \n",
              "3  081340f4cbaab50d8b9606a52488eb0614edd77eb782a4...   \n",
              "4  0ca241e701b2431a3b286c4c9f5f42946eae11ec0cd540...   \n",
              "\n",
              "                           path  \\\n",
              "0  common_voice_ru_25792615.mp3   \n",
              "1  common_voice_ru_26778765.mp3   \n",
              "2  common_voice_ru_26587318.mp3   \n",
              "3  common_voice_ru_19468869.mp3   \n",
              "4  common_voice_ru_25189464.mp3   \n",
              "\n",
              "                                            sentence  up_votes  down_votes  \\\n",
              "0  Внешние отношения Алексея Александровича с жен...         2           0   \n",
              "1  Повреждать систему, в том числе устанавливать ...         2           0   \n",
              "2  К сожалению, эти предложения не нашли отражени...         2           0   \n",
              "3  Если не будет возражений, я буду считать, что ...         2           0   \n",
              "4  Мы особенно рады отметить, что число скрывающи...         2           0   \n",
              "\n",
              "        age  gender  accent locale segment  \n",
              "0       NaN     NaN     NaN     ru     NaN  \n",
              "1  fourties  female     NaN     ru     NaN  \n",
              "2       NaN     NaN     NaN     ru     NaN  \n",
              "3       NaN     NaN     NaN     ru     NaN  \n",
              "4       NaN     NaN     NaN     ru     NaN  "
            ]
          },
          "execution_count": 8,
          "metadata": {},
          "output_type": "execute_result"
        }
      ],
      "source": [
        "test_data = pd.read_table(\"/Users/sergey/Documents/GitHub/Research-work/cv-corpus-7.0-2021-07-21/ru/test.tsv\", sep='\\t')\n",
        "test_data.to_csv('test.csv', index=False)\n",
        "test_data.head()"
      ]
    },
    {
      "cell_type": "markdown",
      "metadata": {
        "id": "uCmgoppKrAOf"
      },
      "source": [
        "Вывод графика тестовых данных без очистки"
      ]
    },
    {
      "cell_type": "code",
      "execution_count": 9,
      "metadata": {
        "colab": {
          "base_uri": "https://localhost:8080/",
          "height": 320
        },
        "id": "d7J0cYoxrFwt",
        "outputId": "4f0ced36-4657-4898-8676-123b5bcdb289"
      },
      "outputs": [
        {
          "data": {
            "image/png": "[encoded data removed]",
            "text/plain": [
              "<Figure size 432x288 with 1 Axes>"
            ]
          },
          "metadata": {
            "needs_background": "light"
          },
          "output_type": "display_data"
        }
      ],
      "source": [
        "list(test_data.columns)\n",
        "items = Counter(test_data.gender)\n",
        "srs = pd.DataFrame.from_dict(items, orient='index')\n",
        "srs = srs[0].sort_values(ascending=True)\n",
        "\n",
        "srs.plot(kind='bar')\n",
        "plt.xlabel('Gender')\n",
        "plt.ylabel('Amount')\n",
        "plt.title('Amount of people in different genders')\n",
        "plt.show()"
      ]
    },
    {
      "cell_type": "markdown",
      "metadata": {
        "id": "Zg52aHqLrStI"
      },
      "source": [
        "Очистка тестовых данных"
      ]
    },
    {
      "cell_type": "code",
      "execution_count": 10,
      "metadata": {
        "colab": {
          "base_uri": "https://localhost:8080/",
          "height": 320
        },
        "id": "vjrrUyCOrWFR",
        "outputId": "0c2c88ec-c3ea-4206-886c-8dde6c5954ce"
      },
      "outputs": [
        {
          "data": {
            "image/png": "[encoded data removed]",
            "text/plain": [
              "<Figure size 432x288 with 1 Axes>"
            ]
          },
          "metadata": {
            "needs_background": "light"
          },
          "output_type": "display_data"
        }
      ],
      "source": [
        "test_data = test_data[test_data.gender.notnull()]\n",
        "list(test_data.columns)\n",
        "items = Counter(test_data.gender)\n",
        "srs = pd.DataFrame.from_dict(items, orient='index')\n",
        "srs = srs[0].sort_values(ascending=True)\n",
        "\n",
        "srs.plot(kind='bar')\n",
        "plt.xlabel('Gender')\n",
        "plt.ylabel('Amount')\n",
        "plt.title('Amount of people in different genders')\n",
        "plt.show()"
      ]
    },
    {
      "cell_type": "markdown",
      "metadata": {},
      "source": [
        "Получение информации о возрастах в проверенной выборке"
      ]
    },
    {
      "cell_type": "code",
      "execution_count": 15,
      "metadata": {},
      "outputs": [
        {
          "data": {
            "text/plain": [
              "twenties    44310\n",
              "fourties    16262\n",
              "thirties    12331\n",
              "teens        8808\n",
              "fifties      4160\n",
              "sixties        65\n",
              "Name: age, dtype: int64"
            ]
          },
          "execution_count": 15,
          "metadata": {},
          "output_type": "execute_result"
        }
      ],
      "source": [
        "full_data.age.value_counts()\n",
        "# age_full_data = full_data[full_data['age'].isin(['twenties', 'thirties', 'fourties', 'fifties', 'sixties'])]\n",
        "\n",
        "\n"
      ]
    },
    {
      "cell_type": "markdown",
      "metadata": {},
      "source": [
        "Вывод данных с очисткой от лиц младше 20 лет"
      ]
    },
    {
      "cell_type": "code",
      "execution_count": 16,
      "metadata": {},
      "outputs": [
        {
          "data": {
            "image/png": "[encoded data removed]",
            "text/plain": [
              "<Figure size 432x288 with 1 Axes>"
            ]
          },
          "metadata": {
            "needs_background": "light"
          },
          "output_type": "display_data"
        }
      ],
      "source": [
        "age_full_data = full_data[full_data['age'].isin(['twenties', 'thirties', 'fourties', 'fifties', 'sixties'])]\n",
        "age_full_data = age_full_data[age_full_data.gender.notnull()]\n",
        "age_full_data = age_full_data[age_full_data.gender != 'other']\n",
        "age_full_data.head()\n",
        "list(full_data.columns)\n",
        "items = Counter(age_full_data.gender)\n",
        "srs = pd.DataFrame.from_dict(items, orient='index')\n",
        "srs = srs[0].sort_values(ascending=True)\n",
        "\n",
        "srs.plot(kind='bar')\n",
        "plt.xlabel('Gender')\n",
        "plt.ylabel('Amount')\n",
        "plt.title('Amount of people in different genders')\n",
        "plt.show()"
      ]
    },
    {
      "cell_type": "markdown",
      "metadata": {},
      "source": [
        "\n",
        "#Вывод точного количества людей по полу в обновившейся выборке"
      ]
    },
    {
      "cell_type": "code",
      "execution_count": 17,
      "metadata": {},
      "outputs": [
        {
          "data": {
            "text/plain": [
              "male      61559\n",
              "female    15569\n",
              "Name: gender, dtype: int64"
            ]
          },
          "execution_count": 17,
          "metadata": {},
          "output_type": "execute_result"
        }
      ],
      "source": [
        "age_full_data.gender.value_counts()"
      ]
    },
    {
      "cell_type": "markdown",
      "metadata": {},
      "source": [
        "Получение массива с путями до нужных файлов\n"
      ]
    },
    {
      "cell_type": "code",
      "execution_count": 32,
      "metadata": {},
      "outputs": [],
      "source": [
        "full_pathes = []\n",
        "for i,row in age_full_data.iterrows():\n",
        "    full_pathes.append(f\"{path}{row['path']}\")\n",
        "\n"
      ]
    },
    {
      "cell_type": "markdown",
      "metadata": {},
      "source": [
        "Получение длины начальных аудиодорожек"
      ]
    },
    {
      "cell_type": "code",
      "execution_count": 39,
      "metadata": {},
      "outputs": [],
      "source": [
        "time_full_audio = []\n",
        "for index in full_pathes:\n",
        "    audio = MP3(index)\n",
        "    type(audio)\n",
        "    time_full_audio.append(audio.info.length)\n",
        "\n",
        "# for i in range(3):\n",
        "#     print(time_full_audio[i])"
      ]
    },
    {
      "cell_type": "markdown",
      "metadata": {},
      "source": [
        "Получение средней длины неизменённых аудиофайлов"
      ]
    },
    {
      "cell_type": "code",
      "execution_count": 41,
      "metadata": {},
      "outputs": [
        {
          "name": "stdout",
          "output_type": "stream",
          "text": [
            "77128\n",
            "5.296430224756262\n"
          ]
        }
      ],
      "source": [
        "print(len(time_full_audio))\n",
        "mid_full_length = sum(time_full_audio) / len(time_full_audio)\n",
        "print(mid_full_length)"
      ]
    },
    {
      "cell_type": "markdown",
      "metadata": {},
      "source": [
        "Получение данных о возрастах в тренировочной и тестовой выборках"
      ]
    },
    {
      "cell_type": "code",
      "execution_count": 46,
      "metadata": {},
      "outputs": [
        {
          "data": {
            "text/plain": [
              "twenties    8324\n",
              "thirties    3884\n",
              "teens       1969\n",
              "fourties    1258\n",
              "fifties      125\n",
              "Name: age, dtype: int64"
            ]
          },
          "execution_count": 46,
          "metadata": {},
          "output_type": "execute_result"
        }
      ],
      "source": [
        "test_data.age.value_counts()\n",
        "train_data.age.value_counts()"
      ]
    },
    {
      "cell_type": "markdown",
      "metadata": {},
      "source": [
        "Вывод данных тестовой выборки без лиц младше 20"
      ]
    },
    {
      "cell_type": "code",
      "execution_count": 47,
      "metadata": {},
      "outputs": [
        {
          "data": {
            "image/png": "[encoded data removed]",
            "text/plain": [
              "<Figure size 432x288 with 1 Axes>"
            ]
          },
          "metadata": {
            "needs_background": "light"
          },
          "output_type": "display_data"
        }
      ],
      "source": [
        "age_test_data = test_data[test_data['age'].isin(['twenties', 'thirties', 'fourties', 'fifties', 'sixties'])]\n",
        "age_test_data = age_test_data[age_test_data.gender.notnull()]\n",
        "age_test_data = age_test_data[age_test_data.gender != 'other']\n",
        "age_test_data.head()\n",
        "list(age_test_data.columns)\n",
        "items = Counter(age_test_data.gender)\n",
        "srs = pd.DataFrame.from_dict(items, orient='index')\n",
        "srs = srs[0].sort_values(ascending=True)\n",
        "\n",
        "srs.plot(kind='bar')\n",
        "plt.xlabel('Gender')\n",
        "plt.ylabel('Amount')\n",
        "plt.title('Amount of people in different genders')\n",
        "plt.show()"
      ]
    },
    {
      "cell_type": "markdown",
      "metadata": {},
      "source": [
        "Вывод точного количества человек в получившейся выборке"
      ]
    },
    {
      "cell_type": "code",
      "execution_count": 49,
      "metadata": {},
      "outputs": [
        {
          "data": {
            "text/plain": [
              "male      2764\n",
              "female     555\n",
              "Name: gender, dtype: int64"
            ]
          },
          "execution_count": 49,
          "metadata": {},
          "output_type": "execute_result"
        }
      ],
      "source": [
        "age_test_data.gender.value_counts()"
      ]
    },
    {
      "cell_type": "markdown",
      "metadata": {},
      "source": [
        "Вывод данных тренировочной выборки без лиц младше 20"
      ]
    },
    {
      "cell_type": "code",
      "execution_count": 48,
      "metadata": {},
      "outputs": [
        {
          "data": {
            "image/png": "[encoded data removed]",
            "text/plain": [
              "<Figure size 432x288 with 1 Axes>"
            ]
          },
          "metadata": {
            "needs_background": "light"
          },
          "output_type": "display_data"
        }
      ],
      "source": [
        "age_train_data = train_data[train_data['age'].isin(['twenties', 'thirties', 'fourties', 'fifties', 'sixties'])]\n",
        "age_train_data = age_train_data[age_train_data.gender.notnull()]\n",
        "age_train_data = age_train_data[age_train_data.gender != 'other']\n",
        "age_train_data.head()\n",
        "list(age_train_data.columns)\n",
        "items = Counter(age_train_data.gender)\n",
        "srs = pd.DataFrame.from_dict(items, orient='index')\n",
        "srs = srs[0].sort_values(ascending=True)\n",
        "\n",
        "srs.plot(kind='bar')\n",
        "plt.xlabel('Gender')\n",
        "plt.ylabel('Amount')\n",
        "plt.title('Amount of people in different genders')\n",
        "plt.show()"
      ]
    },
    {
      "cell_type": "markdown",
      "metadata": {},
      "source": [
        "Вывод точного количества человек в получившейся выборке"
      ]
    },
    {
      "cell_type": "code",
      "execution_count": 50,
      "metadata": {},
      "outputs": [
        {
          "data": {
            "text/plain": [
              "male      11279\n",
              "female     2312\n",
              "Name: gender, dtype: int64"
            ]
          },
          "execution_count": 50,
          "metadata": {},
          "output_type": "execute_result"
        }
      ],
      "source": [
        "age_train_data.gender.value_counts()"
      ]
    },
    {
      "cell_type": "markdown",
      "metadata": {},
      "source": [
        "Получение путей до нужных файлов "
      ]
    },
    {
      "cell_type": "code",
      "execution_count": 51,
      "metadata": {},
      "outputs": [],
      "source": [
        "test_pathes = []\n",
        "train_pathes = []\n",
        "for i,row in age_test_data.iterrows():\n",
        "    test_pathes.append(f\"{path}{row['path']}\")\n",
        "\n",
        "for i,row in age_train_data.iterrows():\n",
        "    train_pathes.append(f\"{path}{row['path']}\")"
      ]
    },
    {
      "cell_type": "markdown",
      "metadata": {},
      "source": [
        "Получение длины тестовой и тренировочной выборок"
      ]
    },
    {
      "cell_type": "code",
      "execution_count": 52,
      "metadata": {},
      "outputs": [],
      "source": [
        "time_test_audio = []\n",
        "time_train_audio = []\n",
        "for index in test_pathes:\n",
        "    audio = MP3(index)\n",
        "    type(audio)\n",
        "    time_test_audio.append(audio.info.length)\n",
        "for index in train_pathes:\n",
        "    audio = MP3(index)\n",
        "    type(audio)\n",
        "    time_train_audio.append(audio.info.length)"
      ]
    },
    {
      "cell_type": "markdown",
      "metadata": {},
      "source": [
        "Вывод средней длины аудиодорожек в тестовой и тренировочной выборках"
      ]
    },
    {
      "cell_type": "code",
      "execution_count": 53,
      "metadata": {},
      "outputs": [
        {
          "name": "stdout",
          "output_type": "stream",
          "text": [
            "Средняя продолжительность аудио в тренировочной выборке: 5.476007872857061, в тестовой: 5.9021469192527976\n"
          ]
        }
      ],
      "source": [
        "mid_train_length = sum(time_train_audio) / len(time_train_audio)\n",
        "mid_test_length = sum(time_test_audio) / len(time_test_audio)\n",
        "print(f\"Средняя продолжительность аудио в тренировочной выборке: {mid_train_length}, в тестовой: {mid_test_length}\")"
      ]
    }
  ],
  "metadata": {
    "colab": {
      "authorship_tag": "ABX9TyNKrnA/Mu+yez5IDNNq/Ynf",
      "include_colab_link": true,
      "name": "НИР.ipynb",
      "provenance": []
    },
    "interpreter": {
      "hash": "aee8b7b246df8f9039afb4144a1f6fd8d2ca17a180786b69acc140d282b71a49"
    },
    "kernelspec": {
      "display_name": "Python 3.9.5 64-bit",
      "name": "python3"
    },
    "language_info": {
      "codemirror_mode": {
        "name": "ipython",
        "version": 3
      },
      "file_extension": ".py",
      "mimetype": "text/x-python",
      "name": "python",
      "nbconvert_exporter": "python",
      "pygments_lexer": "ipython3",
      "version": "3.9.5"
    }
  },
  "nbformat": 4,
  "nbformat_minor": 0
}
